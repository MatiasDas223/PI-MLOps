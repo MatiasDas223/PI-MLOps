{
 "cells": [
  {
   "cell_type": "code",
   "execution_count": 1,
   "metadata": {},
   "outputs": [],
   "source": [
    "import pandas as pd\n",
    "import numpy as np\n",
    "import ast"
   ]
  },
  {
   "cell_type": "code",
   "execution_count": 2,
   "metadata": {},
   "outputs": [
    {
     "name": "stderr",
     "output_type": "stream",
     "text": [
      "C:\\Users\\Matias\\AppData\\Local\\Temp\\ipykernel_13140\\3779985946.py:1: DtypeWarning: Columns (10) have mixed types. Specify dtype option on import or set low_memory=False.\n",
      "  movies = pd.read_csv('movies_dataset.csv')\n"
     ]
    }
   ],
   "source": [
    "movies = pd.read_csv('movies_dataset.csv')"
   ]
  },
  {
   "cell_type": "code",
   "execution_count": 3,
   "metadata": {},
   "outputs": [],
   "source": [
    "movies['release_date'].isnull().sum()\n",
    "movies['budget'].fillna(0,inplace= True)\n",
    "movies['revenue'].fillna(0,inplace= True)\n",
    "movies.dropna(subset=['release_date'], inplace=True)\n",
    "\n",
    "movies['release_date'] = pd.to_datetime(movies['release_date'], errors='coerce')\n",
    "movies.dropna(subset= ['release_date'], inplace= True)\n",
    "movies.rename(columns= {'id': 'id_movie'}, inplace= True)\n",
    "\n",
    "movies['release_year'] = movies['release_date'].dt.year"
   ]
  },
  {
   "cell_type": "code",
   "execution_count": 4,
   "metadata": {},
   "outputs": [],
   "source": [
    "# Transformamos budget en un float\n",
    "movies['budget'] = movies['budget'].astype(float)\n",
    "\n",
    "# Calculamos return\n",
    "movies['return'] = movies['revenue']/movies['budget']\n",
    "\n",
    "# A los valores nulos (0/0) y infinitos (num/0) los reemplazamos por 0\n",
    "movies.fillna(0, inplace= True)\n",
    "movies['return'] = movies['return'].replace(['inf', 'Infinity', 'Inf'], 0)\n",
    "\n",
    "movies.drop(columns= ['video','imdb_id','adult','original_title','poster_path', 'homepage'], axis= 1, inplace=True)\n",
    "\n",
    "# convierte las cadenas a listas de diccionarios\n",
    "movies['genres'] = movies['genres'].apply(ast.literal_eval)\n",
    "\n",
    "movies['genero_ids'] = movies['genres'].apply(lambda x: [i['id'] for i in x] if isinstance(x, list) else [])\n",
    "movies['genero_names'] = movies['genres'].apply(lambda x: [i['name'] for i in x] if isinstance(x, list) else [])\n",
    "\n",
    "# y podemos eliminar la columna 'genero' original\n",
    "movies.drop(columns='genres', inplace= True)"
   ]
  },
  {
   "cell_type": "code",
   "execution_count": null,
   "metadata": {},
   "outputs": [],
   "source": [
    "# Función para convertir cadenas a diccionarios, manejar cadenas mal formadas y manejar valores que no son cadenas\n",
    "def string_to_dict(dict_string):\n",
    "    try:\n",
    "        # Intenta convertir la cadena a un diccionario\n",
    "        return ast.literal_eval(dict_string)\n",
    "    except ValueError:\n",
    "        # Si la cadena no se puede convertir a un diccionario, devuelve NaN\n",
    "        return np.nan\n",
    "    except SyntaxError:\n",
    "        # Si la cadena no se puede convertir debido a un error de sintaxis (por ejemplo, si no es una cadena), devuelve NaN\n",
    "        return np.nan\n",
    "\n",
    "# Convierte las cadenas en 'belongs_to_collection' a diccionarios\n",
    "movies['belongs_to_collection'] = movies['belongs_to_collection'].apply(string_to_dict)\n",
    "\n",
    "# Desanida el diccionario en 'belongs_to_collection' en columnas separadas\n",
    "movies = pd.concat([movies, movies['belongs_to_collection'].apply(pd.Series)], axis=1)\n",
    "\n",
    "# Y puedes eliminar la columna 'belongs_to_collection' original si ya no la necesitas\n",
    "movies = movies.drop(columns='belongs_to_collection')\n",
    "movies = movies.drop(columns=[0], errors='ignore')\n",
    "\n",
    "movies = movies.rename(columns={\n",
    "    'id': 'id_collection',\n",
    "    'name': 'name_collection',\n",
    "    'poster_path': 'collection_poster_path',\n",
    "    'backdrop_path': 'collection_backdrop_path'\n",
    "})"
   ]
  },
  {
   "cell_type": "code",
   "execution_count": null,
   "metadata": {},
   "outputs": [],
   "source": [
    "# convierte las cadenas a listas de diccionarios\n",
    "movies['production_companies'] = movies['production_companies'].apply(ast.literal_eval)\n",
    "\n",
    "#Como el nombre de las claves son las mismas podemos usar las funciones ya definidas\n",
    "\n",
    "movies['production_companies_ids'] = movies['production_companies'].apply(lambda x: [i['id'] for i in x] if isinstance(x, list) else [])\n",
    "movies['production_companies_names'] = movies['production_companies'].apply(lambda x: [i['name'] for i in x] if isinstance(x, list) else [])\n",
    "\n",
    "movies.drop(columns= ['production_companies'], inplace= True)\n",
    "\n",
    "# Convierte las cadenas en 'production_countries' a diccionarios\n",
    "movies['production_countries'] = movies['production_countries'].apply(string_to_dict)\n",
    "\n",
    "movies['production_countries_names'] = movies['production_countries'].apply(lambda x: [i['name'] for i in x] if isinstance(x, list) else [])\n",
    "movies['production_countries_iso'] = movies['production_countries'].apply(lambda x: [i['iso_3166_1'] for i in x] if isinstance(x, list) else [])\n",
    "\n",
    "movies.drop(columns= ['production_countries'], inplace= True)\n",
    "\n",
    "# Convierte las cadenas en 'production_countries' a diccionarios\n",
    "movies['spoken_languages'] = movies['spoken_languages'].apply(string_to_dict)\n",
    "\n",
    "movies['spoken_languages_names'] = movies['spoken_languages'].apply(lambda x: [i['name'] for i in x] if isinstance(x, list) else [])\n",
    "movies['spoken_languages_iso'] = movies['spoken_languages'].apply(lambda x: [i['iso_639_1'] for i in x] if isinstance(x, list) else [])\n",
    "\n",
    "movies.drop(columns= ['spoken_languages'], inplace= True)"
   ]
  },
  {
   "cell_type": "code",
   "execution_count": null,
   "metadata": {},
   "outputs": [],
   "source": [
    "credits = pd.read_csv('credits.csv')\n",
    "\n",
    "# Convierte la columna \"crew\" en una lista de diccionarios\n",
    "credits['crew'] = credits['crew'].apply(ast.literal_eval)\n",
    "credits['cast'] = credits['cast'].apply(ast.literal_eval)\n",
    "\n",
    "def obtener_director(crew_list):\n",
    "    director_names = []  # Inicializar una lista vacía para almacenar los nombres de los directores\n",
    "    for crew_member in crew_list:\n",
    "        if crew_member.get('job') == 'Director':\n",
    "            director_names.append(crew_member.get('name'))\n",
    "\n",
    "    if director_names:  # Verificar si la lista no está vacía (se encontraron directores)\n",
    "        return director_names\n",
    "    else:\n",
    "        return np.nan\n",
    "\n",
    "# Aplicar la función a la columna \"crew\" para obtener el nombre del director\n",
    "credits['director'] = credits['crew'].apply(obtener_director)\n",
    "\n",
    "# Renombro apra que se llamen igual en ambos df\n",
    "credits.rename(columns = {'id' : 'id_movie'}, inplace= True)\n",
    "\n",
    "def obtener_actores(crew_list):\n",
    "    for crew_member in crew_list:\n",
    "        if crew_member.get('cast_id') == 1:\n",
    "            return crew_member.get('name')\n",
    "    return np.nan\n",
    "\n",
    "# Aplicar la función a la columna \"crew\" para obtener el nombre del director\n",
    "credits['director'] = credits['crew'].apply(obtener_director)\n",
    "\n",
    "credits['principal_actor'] = credits['cast'].apply(obtener_actores)\n",
    "\n",
    "# Renombro apra que se llamen igual en ambos df\n",
    "credits.rename(columns = {'id' : 'id_movie'}, inplace= True)\n",
    "\n",
    "directors = credits[['id_movie','director', 'principal_actor']]\n",
    "directors.to_csv('directors.csv')\n",
    "\n",
    "directors = pd.read_csv('directors.csv')\n",
    "\n",
    "movies['id_movie'] = movies['id_movie'].astype('int64')\n",
    "\n",
    "# Unimos a la pelicula con su director\n",
    "movies = movies.merge(directors, on ='id_movie', how='left') \n",
    "\n",
    "movies.to_csv('movies_ETL.csv')"
   ]
  }
 ],
 "metadata": {
  "kernelspec": {
   "display_name": "venv",
   "language": "python",
   "name": "python3"
  },
  "language_info": {
   "codemirror_mode": {
    "name": "ipython",
    "version": 3
   },
   "file_extension": ".py",
   "mimetype": "text/x-python",
   "name": "python",
   "nbconvert_exporter": "python",
   "pygments_lexer": "ipython3",
   "version": "3.11.1"
  },
  "orig_nbformat": 4
 },
 "nbformat": 4,
 "nbformat_minor": 2
}
